{
 "cells": [
  {
   "cell_type": "code",
   "execution_count": 3,
   "metadata": {},
   "outputs": [
    {
     "ename": "ImportError",
     "evalue": "No module named dlib",
     "output_type": "error",
     "traceback": [
      "\u001b[0;31m---------------------------------------------------------------------------\u001b[0m",
      "\u001b[0;31mImportError\u001b[0m                               Traceback (most recent call last)",
      "\u001b[0;32m<ipython-input-3-f95e1207b51b>\u001b[0m in \u001b[0;36m<module>\u001b[0;34m()\u001b[0m\n\u001b[1;32m      1\u001b[0m \u001b[0;31m# import the libraries\u001b[0m\u001b[0;34m\u001b[0m\u001b[0;34m\u001b[0m\u001b[0;34m\u001b[0m\u001b[0m\n\u001b[1;32m      2\u001b[0m \u001b[0;32mimport\u001b[0m \u001b[0mos\u001b[0m\u001b[0;34m\u001b[0m\u001b[0;34m\u001b[0m\u001b[0m\n\u001b[0;32m----> 3\u001b[0;31m \u001b[0;32mimport\u001b[0m \u001b[0mdlib\u001b[0m\u001b[0;34m\u001b[0m\u001b[0;34m\u001b[0m\u001b[0m\n\u001b[0m\u001b[1;32m      4\u001b[0m \u001b[0;32mimport\u001b[0m \u001b[0mface_recognition\u001b[0m\u001b[0;34m\u001b[0m\u001b[0;34m\u001b[0m\u001b[0m\n\u001b[1;32m      5\u001b[0m \u001b[0;34m\u001b[0m\u001b[0m\n",
      "\u001b[0;31mImportError\u001b[0m: No module named dlib"
     ]
    }
   ],
   "source": [
    "# import the libraries\n",
    "import os\n",
    "import dlib\n",
    "import face_recognition\n",
    "\n",
    "\n",
    "# make a list of all the available images\n",
    "images = os.listdir('images')\n",
    "\n",
    "# load your image\n",
    "image_to_be_matched = face_recognition.load_image_file('test_image.jpeg')\n",
    "\n",
    "# encoded the loaded image into a feature vector\n",
    "image_to_be_matched_encoded = face_recognition.face_encodings(\n",
    "    image_to_be_matched)[0]\n",
    "\n",
    "# iterate over each image\n",
    "for image in images:\n",
    "    # load the image\n",
    "    current_image = face_recognition.load_image_file(\"images/\" + image)\n",
    "    # encode the loaded image into a feature vector\n",
    "    current_image_encoded = face_recognition.face_encodings(current_image)[0]\n",
    "    # match your image with the image and check if it matches\n",
    "    result = face_recognition.compare_faces(\n",
    "        [image_to_be_matched_encoded], current_image_encoded)\n",
    "    # check if it was a match\n",
    "    if result[0] == True:\n",
    "        print \"Matched: \" + image\n",
    "    else:\n",
    "        print \"Not matched: \" + image"
   ]
  },
  {
   "cell_type": "code",
   "execution_count": 1,
   "metadata": {},
   "outputs": [
    {
     "name": "stdout",
     "output_type": "stream",
     "text": [
      "2\n"
     ]
    }
   ],
   "source": [
    "arr = (1,6,9,2,7,3,5,4)\n",
    "\n",
    "def secondmin(n):\n",
    "    dict = {\"smallest\": 99, \"secondsmallest\": 99}\n",
    "    for i in n:\n",
    "        if i < dict[\"secondsmallest\"]:\n",
    "            dict[\"secondsmallest\"] = i\n",
    "            if i < dict[\"smallest\"]:\n",
    "                dict[\"secondsmallest\"] = dict[\"smallest\"]\n",
    "                dict[\"smallest\"] = i\n",
    "    return dict[\"secondsmallest\"]\n",
    "\n",
    "print(secondmin(arr))"
   ]
  },
  {
   "cell_type": "code",
   "execution_count": 6,
   "metadata": {},
   "outputs": [],
   "source": [
    "x,y,z = 30,30,30"
   ]
  }
 ],
 "metadata": {
  "kernelspec": {
   "display_name": "Python 3",
   "language": "python",
   "name": "python3"
  },
  "language_info": {
   "codemirror_mode": {
    "name": "ipython",
    "version": 2
   },
   "file_extension": ".py",
   "mimetype": "text/x-python",
   "name": "python",
   "nbconvert_exporter": "python",
   "pygments_lexer": "ipython2",
   "version": "2.7.15+"
  }
 },
 "nbformat": 4,
 "nbformat_minor": 2
}
